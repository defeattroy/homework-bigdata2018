{
 "cells": [
  {
   "cell_type": "code",
   "execution_count": 1,
   "metadata": {},
   "outputs": [],
   "source": [
    "from sklearn.datasets import make_blobs\n",
    "import pandas as pd \n",
    "import numpy as np\n",
    "import matplotlib.pyplot as plt\n",
    "from sklearn.model_selection import train_test_split"
   ]
  },
  {
   "cell_type": "code",
   "execution_count": 2,
   "metadata": {},
   "outputs": [],
   "source": [
    "X,y = make_blobs(n_samples=150,\n",
    "                 n_features=2,\n",
    "                 centers=3,\n",
    "                 cluster_std=0.5,\n",
    "                 shuffle=True,\n",
    "                 random_state=0)\n",
    "\n",
    "X,xtest,y,ytest = train_test_split(X,y,test_size=0.2)"
   ]
  },
  {
   "cell_type": "code",
   "execution_count": 3,
   "metadata": {},
   "outputs": [
    {
     "data": {
      "text/plain": [
       "<matplotlib.collections.PathCollection at 0x19b16096b48>"
      ]
     },
     "execution_count": 3,
     "metadata": {},
     "output_type": "execute_result"
    },
    {
     "data": {
      "image/png": "[encoded data removed]",
      "text/plain": [
       "<Figure size 432x288 with 1 Axes>"
      ]
     },
     "metadata": {
      "needs_background": "light"
     },
     "output_type": "display_data"
    }
   ],
   "source": [
    "data = pd.DataFrame(X)\n",
    "plt.scatter(data.iloc[:,0],data.iloc[:,1])\n",
    "#观察数据"
   ]
  },
  {
   "cell_type": "code",
   "execution_count": 4,
   "metadata": {},
   "outputs": [],
   "source": [
    "from sklearn.datasets import make_blobs\n",
    "import pandas as pd\n",
    "import numpy as np\n",
    "import matplotlib.pyplot as plt\n",
    "from sklearn.cluster import KMeans\n",
    "\n",
    "\n",
    "km  = KMeans()\n",
    "class kmeans:\n",
    "\n",
    "    def __init__(self,data=[], n_clusters=8, max_iter=300, tol=1e-4):\n",
    "        self.data = data\n",
    "        self.n_clusters = n_clusters\n",
    "        self.max_iter = max_iter\n",
    "        self.tol = tol\n",
    "\n",
    "    def fit(self,data, n_clusters, max_iter=300, tol=1e-4,show_iterate=False):\n",
    "        self.data = data\n",
    "        self.n_clusters = n_clusters\n",
    "        self.max_iter = max_iter\n",
    "        self.tol = tol\n",
    "\n",
    "        n = len(data)\n",
    "\n",
    "        # 随机选取数据集中的 n_clusters 个点索引\n",
    "        center_index = np.floor(np.random.random(size=n_clusters) * n).astype(int)\n",
    "        print(center_index)\n",
    "\n",
    "        # 随机取数据集中的 n_clusters 个点坐标作为初始中心点\n",
    "        self.center = data[center_index]\n",
    "\n",
    "        self.cls = np.zeros([n], np.int)\n",
    "\n",
    "        print('初始中心点坐标：\\n', self.center)\n",
    "        run = True\n",
    "        iterate_time = 0\n",
    "        while run:\n",
    "            iterate_time += 1\n",
    "            for i in range(n):\n",
    "                # 求各点到中心点的距离\n",
    "                distence = np.sum((self.center - data[i]) ** 2, axis=1)\n",
    "\n",
    "                # 将这个点归为和距离最近的中心点一类\n",
    "                self.cls[i] = np.argmin(distence)\n",
    "\n",
    "            run = False\n",
    "            # 计算更新每个群组的中心点\n",
    "            for i in range(n_clusters):\n",
    "\n",
    "                # 找到属于该类的所有样本\n",
    "                club = data[self.cls == i]\n",
    "\n",
    "                # axis=0表示按列求平均值，计算出新的中心点\n",
    "                newcenter = np.mean(club, axis=0)\n",
    "\n",
    "                # 计算新中心点和原来的位置差\n",
    "                dif = np.abs(self.center[i] - newcenter)\n",
    "\n",
    "                # 如果中心点变化超过阈值则继续\n",
    "                if np.sum(dif, axis=0) > tol:\n",
    "                    self.center[i] = newcenter\n",
    "                    run = True\n",
    "\n",
    "            # 超过迭代次数则停止\n",
    "            if iterate_time >= max_iter:\n",
    "                break\n",
    "                \n",
    "            if show_iterate:\n",
    "                    print('新中心点坐标=\\n', self.center)\n",
    "\n",
    "        if show_iterate:\n",
    "            \n",
    "            print('迭代次数：', iterate_time)\n",
    "\n",
    "            # 绘制 数据点 和 中心点\n",
    "            for i in range(n_clusters):\n",
    "                club = data[self.cls == i]\n",
    "                plt.scatter(club[:, 0], club[:, 1])\n",
    "            plt.scatter(self.center[:, 0], self.center[:, 1], marker='s')\n",
    "            plt.show()\n",
    "\n",
    "    def predict(self,predict_data,show_plt=False):\n",
    "\n",
    "        for i in range(self.n_clusters):\n",
    "            club = self.data[self.cls == i]\n",
    "            plt.scatter(club[:, 0], club[:, 1])\n",
    "        plt.scatter(self.center[:, 0], self.center[:, 1], marker='s')\n",
    "        \n",
    "\n",
    "        result_list = []\n",
    "        n = len(predict_data)\n",
    "        for i in predict_data:\n",
    "            plt.scatter(i[0],i[1],marker=\"+\",color = 'r')\n",
    "            distences ={}\n",
    "            for j in range(self.n_clusters):\n",
    "                distence=np.sum(np.sum((self.data[self.cls==j]-i)**2,axis=1))\n",
    "                distences.setdefault(distence,j)\n",
    "            y_predict = distences[min(distences.keys())]\n",
    "            result_list.append(y_predict)\n",
    "            plt.plot((i[0],self.center[y_predict][0]),(i[1],self.center[y_predict][1]),color = \"r\")\n",
    "            \n",
    "        print(\"预测结果：\",result_list)\n",
    "           \n",
    "        if show_plt:\n",
    "            print(\"预测散点图连线：\\n\")\n",
    "            plt.show()"
   ]
  },
  {
   "cell_type": "code",
   "execution_count": 5,
   "metadata": {},
   "outputs": [
    {
     "name": "stdout",
     "output_type": "stream",
     "text": [
      "[61 92 44]\n",
      "初始中心点坐标：\n",
      " [[-0.95073823  3.45769156]\n",
      " [ 2.36230721  1.358767  ]\n",
      " [ 1.8062513   1.86242969]]\n",
      "新中心点坐标=\n",
      " [[-0.53523089  3.59975052]\n",
      " [ 2.21474756  0.76909167]\n",
      " [ 1.60913371  2.47148598]]\n",
      "新中心点坐标=\n",
      " [[-0.71918395  3.50443296]\n",
      " [ 2.10954648  0.84569398]\n",
      " [ 1.58169084  3.67387576]]\n",
      "新中心点坐标=\n",
      " [[-1.46334755  3.07517263]\n",
      " [ 2.07782337  0.93730022]\n",
      " [ 1.04778163  4.32292103]]\n",
      "新中心点坐标=\n",
      " [[-1.62368221  2.92496409]\n",
      " [ 2.07782337  0.93730022]\n",
      " [ 0.95467573  4.34900687]]\n",
      "新中心点坐标=\n",
      " [[-1.62368221  2.92496409]\n",
      " [ 2.07782337  0.93730022]\n",
      " [ 0.95467573  4.34900687]]\n",
      "迭代次数： 5\n"
     ]
    },
    {
     "data": {
      "image/png": "[encoded data removed]",
      "text/plain": [
       "<Figure size 432x288 with 1 Axes>"
      ]
     },
     "metadata": {
      "needs_background": "light"
     },
     "output_type": "display_data"
    },
    {
     "name": "stdout",
     "output_type": "stream",
     "text": [
      "预测结果： [1, 2, 1, 2, 2, 1, 1, 2, 1, 0, 2, 2, 2, 0, 1, 0, 2, 2, 0, 0, 2, 2, 1, 1, 1, 0, 0, 0, 0, 0]\n",
      "预测散点图连线：\n",
      "\n"
     ]
    },
    {
     "data": {
      "image/png": "[encoded data removed]",
      "text/plain": [
       "<Figure size 432x288 with 1 Axes>"
      ]
     },
     "metadata": {
      "needs_background": "light"
     },
     "output_type": "display_data"
    },
    {
     "name": "stdout",
     "output_type": "stream",
     "text": [
      "[1 0 1 0 0 1 1 0 1 2 0 0 0 2 1 2 0 0 2 2 0 0 1 1 1 2 2 2 2 2]\n"
     ]
    }
   ],
   "source": [
    "km = kmeans()\n",
    "km.fit(X, 3,show_iterate=True)\n",
    "km.predict(xtest,show_plt=True)\n",
    "print(ytest)"
   ]
  }
 ],
 "metadata": {
  "kernelspec": {
   "display_name": "Python 3",
   "language": "python",
   "name": "python3"
  },
  "language_info": {
   "codemirror_mode": {
    "name": "ipython",
    "version": 3
   },
   "file_extension": ".py",
   "mimetype": "text/x-python",
   "name": "python",
   "nbconvert_exporter": "python",
   "pygments_lexer": "ipython3",
   "version": "3.7.6"
  }
 },
 "nbformat": 4,
 "nbformat_minor": 4
}
