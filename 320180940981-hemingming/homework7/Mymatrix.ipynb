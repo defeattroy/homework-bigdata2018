{
 "cells": [
  {
   "cell_type": "code",
   "execution_count": 53,
   "metadata": {},
   "outputs": [],
   "source": [
    "import copy\n",
    "\n",
    "class Matrix:\n",
    "    \n",
    "    def __init__(self, row, column, fill=0.0):\n",
    "        self.shape = (row, column)\n",
    "        self.row = row\n",
    "        self.column = column\n",
    "        self._matrix = [[fill]*column for i in range(row)]\n",
    "        \n",
    "    \n",
    "    def __getitem__(self, index):\n",
    "        if isinstance(index, int):\n",
    "            return self._matrix[index-1]\n",
    "        elif isinstance(index, tuple):\n",
    "            return self._matrix[index[0]-1][index[1]-1]\n",
    "\n",
    "    \n",
    "    def __setitem__(self, index, value):\n",
    "        if isinstance(index, int):\n",
    "            self._matrix[index-1] = copy.deepcopy(value)\n",
    "        elif isinstance(index, tuple):\n",
    "            self._matrix[index[0]-1][index[1]-1] = value\n",
    "        \n",
    "    def __eq__(self, N):\n",
    "        \n",
    "        # A == B\n",
    "        assert isinstance(N, Matrix), \"Type mismatch, cannot compare\"\n",
    "        return N.shape == self.shape  \n",
    "    \n",
    "    def __add__(self, N):\n",
    "        # A + B\n",
    "        assert N.shape == self.shape, \"Dimension mismatch, cannot add\"\n",
    "        M = Matrix(self.row, self.column)\n",
    "        for r in range(self.row):\n",
    "            for c in range(self.column):\n",
    "                M[r, c] = self[r, c] + N[r, c]\n",
    "        return M\n",
    "    \n",
    "    def __sub__(self, N):\n",
    "        # A - B\n",
    "        assert N.shape == self.shape, \"Dimension mismatch, cannot subtract\"\n",
    "        M = Matrix(self.row, self.column)\n",
    "        for r in range(self.row):\n",
    "            for c in range(self.column):\n",
    "                M[r, c] = self[r, c] - N[r, c]\n",
    "        return M\n",
    "    \n",
    "    def __mul__(self, N):\n",
    "        # A * B \n",
    "        if isinstance(N, int) or isinstance(N,float):\n",
    "            M = Matrix(self.row, self.column)\n",
    "            for r in range(self.row):\n",
    "                for c in range(self.column):\n",
    "                    M[r, c] = self[r, c]*N\n",
    "        else:\n",
    "            assert N.row == self.column, \"Dimension mismatch, cannot multiply\"\n",
    "            M = Matrix(self.row, N.column)\n",
    "            for r in range(self.row):\n",
    "                for c in range(N.column):\n",
    "                    sum = 0\n",
    "                    for k in range(self.column):\n",
    "                        sum += self[r, k] * N[k, r]\n",
    "                    M[r, c] = sum\n",
    "        return M\n",
    "    \n",
    "    def __div__(self, N):\n",
    "        # A / B\n",
    "        pass\n",
    "    def __pow__(self, k):\n",
    "        # A**k\n",
    "        assert self.row == self.column, \"It's not a square array. It can't be multiplied\"\n",
    "        M = copy.deepcopy(self)\n",
    "        for i in range(k):\n",
    "           M = M * self \n",
    "        return M\n",
    "\n",
    "    def invert(self):\n",
    "    \n",
    "        assert self.row == self.column, \"It's not a square array.\"\n",
    "        M = Matrix(self.row, self.column*2)\n",
    "        I = self.identity()\n",
    "        I.show()#############################\n",
    "        \n",
    "        \n",
    "        for r in range(1,M.row+1):\n",
    "            temp = self[r]\n",
    "            temp.extend(I[r])\n",
    "            M[r] = copy.deepcopy(temp)\n",
    "        M.show()############################# \n",
    "        \n",
    "    def transpose(self):\n",
    "        \n",
    "        M = Matrix(self.column, self.row)\n",
    "        for r in range(self.column):\n",
    "            for c in range(self.row):\n",
    "                M[r, c] = self[c, r]\n",
    "        return M\n",
    "    \n",
    "    def zeros(self):\n",
    "        \n",
    "        M = Matrix(self.column, self.row, fill=0.0)\n",
    "        return M\n",
    "    \n",
    "    def ones(self):\n",
    "        \n",
    "        M = Matrix(self.column, self.row, fill=1.0)\n",
    "        return M\n",
    "    \n",
    "    def identity(self):\n",
    "        \n",
    "        assert self.row == self.column, \"Not n*n matrix，no matrix\"\n",
    "        M = Matrix(self.column, self.row)\n",
    "        for r in range(self.row):\n",
    "            for c in range(self.column):\n",
    "                M[r, c] = 1.0 if r == c else 0.0\n",
    "        return M\n",
    "    \n",
    "    def show(self):\n",
    "       \n",
    "        for r in range(self.row):\n",
    "            for c in range(self.column):\n",
    "                print(self[r+1, c+1],end='  ')\n",
    "            print()\n",
    "    \n",
    "\n",
    "if __name__ == '__main__':\n",
    "   \n",
    "\n",
    "    m[1] = [1.,3.,2.]\n",
    "    m[2] = [1.,2.,1.]\n",
    "    m[3] = [2.,1.,1.]\n",
    "    n[1] = [1.,2.,3.]\n",
    "    n[2] = [2.,2.,2.]\n",
    "    n[3] = [3.,2.,1.]\n",
    "    \n",
    "    a = m+n\n",
    "    b = m-n\n",
    "    c = m*n\n",
    "    d = m*3\n",
    "    f = m.transpose()\n",
    "    g = m**3\n",
    "\n",
    "    \n",
    "    "
   ]
  },
  {
   "cell_type": "code",
   "execution_count": 42,
   "metadata": {},
   "outputs": [
    {
     "name": "stdout",
     "output_type": "stream",
     "text": [
      "1.0  3.0  2.0  \n",
      "1.0  2.0  1.0  \n",
      "2.0  1.0  1.0  \n"
     ]
    }
   ],
   "source": [
    "m.show()"
   ]
  },
  {
   "cell_type": "code",
   "execution_count": 43,
   "metadata": {},
   "outputs": [
    {
     "name": "stdout",
     "output_type": "stream",
     "text": [
      "1.0  2.0  3.0  \n",
      "2.0  2.0  2.0  \n",
      "3.0  2.0  1.0  \n"
     ]
    }
   ],
   "source": [
    "n.show()"
   ]
  },
  {
   "cell_type": "code",
   "execution_count": 47,
   "metadata": {},
   "outputs": [
    {
     "name": "stdout",
     "output_type": "stream",
     "text": [
      "2.0  5.0  5.0  \n",
      "3.0  4.0  3.0  \n",
      "5.0  3.0  2.0  \n"
     ]
    }
   ],
   "source": [
    "a.show()"
   ]
  },
  {
   "cell_type": "code",
   "execution_count": 48,
   "metadata": {},
   "outputs": [
    {
     "name": "stdout",
     "output_type": "stream",
     "text": [
      "0.0  1.0  -1.0  \n",
      "-1.0  0.0  -1.0  \n",
      "-1.0  -1.0  0.0  \n"
     ]
    }
   ],
   "source": [
    "b.show()"
   ]
  },
  {
   "cell_type": "code",
   "execution_count": 49,
   "metadata": {},
   "outputs": [
    {
     "name": "stdout",
     "output_type": "stream",
     "text": [
      "13.0  13.0  13.0  \n",
      "8.0  8.0  8.0  \n",
      "9.0  9.0  9.0  \n"
     ]
    }
   ],
   "source": [
    "c.show()"
   ]
  },
  {
   "cell_type": "code",
   "execution_count": 50,
   "metadata": {},
   "outputs": [
    {
     "name": "stdout",
     "output_type": "stream",
     "text": [
      "3.0  9.0  6.0  \n",
      "3.0  6.0  3.0  \n",
      "6.0  3.0  3.0  \n"
     ]
    }
   ],
   "source": [
    "d.show()"
   ]
  },
  {
   "cell_type": "code",
   "execution_count": 51,
   "metadata": {},
   "outputs": [
    {
     "name": "stdout",
     "output_type": "stream",
     "text": [
      "1.0  1.0  2.0  \n",
      "3.0  2.0  1.0  \n",
      "2.0  1.0  1.0  \n"
     ]
    }
   ],
   "source": [
    "f.show()"
   ]
  },
  {
   "cell_type": "code",
   "execution_count": 52,
   "metadata": {},
   "outputs": [
    {
     "name": "stdout",
     "output_type": "stream",
     "text": [
      "128.0  128.0  128.0  \n",
      "288.0  288.0  288.0  \n",
      "96.0  96.0  96.0  \n"
     ]
    }
   ],
   "source": [
    "g.show()"
   ]
  },
  {
   "cell_type": "code",
   "execution_count": null,
   "metadata": {},
   "outputs": [],
   "source": []
  }
 ],
 "metadata": {
  "kernelspec": {
   "display_name": "Python 3",
   "language": "python",
   "name": "python3"
  },
  "language_info": {
   "codemirror_mode": {
    "name": "ipython",
    "version": 3
   },
   "file_extension": ".py",
   "mimetype": "text/x-python",
   "name": "python",
   "nbconvert_exporter": "python",
   "pygments_lexer": "ipython3",
   "version": "3.7.4"
  }
 },
 "nbformat": 4,
 "nbformat_minor": 2
}
