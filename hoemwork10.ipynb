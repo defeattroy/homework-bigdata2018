{
 "cells": [
  {
   "cell_type": "code",
   "execution_count": 1,
   "metadata": {},
   "outputs": [],
   "source": [
    "import json\n",
    "import pandas as pd\n",
    "import numpy as np\n",
    "from pandas import Series,DataFrame\n",
    "from datetime import datetime\n",
    "import warnings\n",
    "warnings.filterwarnings('ignore')\n",
    "import matplotlib.pyplot as plt\n",
    "import seaborn as sns\n",
    "from wordcloud import WordCloud,STOPWORDS,ImageColorGenerator\n",
    "import requests"
   ]
  },
  {
   "cell_type": "markdown",
   "metadata": {},
   "source": [
    "Create request connections"
   ]
  },
  {
   "cell_type": "code",
   "execution_count": 170,
   "metadata": {},
   "outputs": [],
   "source": [
    "url1='http://yang.lzu.edu.cn/data/'\n",
    "# change the bytes to str:\n",
    "index_content=requests.get('http://yang.lzu.edu.cn/data/index.txt').content\n",
    "index_con_str=str(index_content,encoding='utf8')\n",
    "# delete the '\\n'\n",
    "index_nolb=index_con_str.split('\\n')\n",
    "   \n",
    "#    devide the data into relevant part\n",
    "accelerometer_anxiety_female=[]\n",
    "accelerometer_health_female=[]\n",
    "device_motion_anxiety_female=[]\n",
    "device_motion_health_female=[]\n",
    "gyroscope_anxiety_female=[]\n",
    "gyroscope_health_female=[]\n",
    "# Construct a small function:\n",
    "def a(l,m,n):\n",
    "    return (l if m in n else '') \n",
    "    \n",
    "for i in index_nolb:\n",
    "    #     create the web path：\n",
    "    url2=url1+(i.strip('./'))\n",
    "    #     Groups of data by prefix\n",
    "    accelerometer_anxiety_female.append(a(url2,'./accelerometer/anxiety/female/',i))\n",
    "    accelerometer_health_female.append(a(url2,'./accelerometer/health/female/' ,i)) \n",
    "    device_motion_anxiety_female.append(a(url2,'./device_motion/anxiety/female/',i) )\n",
    "    device_motion_health_female.append(a(url2,'./device_motion/health/female/',i)) \n",
    "    gyroscope_anxiety_female.append(a(url2,'./gyroscope/anxiety/female/',i))\n",
    "    gyroscope_health_female.append(a(url2,'./gyroscope/health/female/',i))\n",
    "\n",
    "#     delete the ''\n",
    "accelerometer_anxiety_female=[i for i in accelerometer_anxiety_female if(len(str(i))!=0)]\n",
    "accelerometer_health_female=[i for i in accelerometer_health_female if(len(str(i))!=0)]\n",
    "device_motion_anxiety_female=[i for i in device_motion_anxiety_female if(len(str(i))!=0)]\n",
    "device_motion_health_female=[i for i in device_motion_health_female if(len(str(i))!=0)]\n",
    "gyroscope_anxiety_female=[i for i in gyroscope_anxiety_female if(len(str(i))!=0)]\n",
    "gyroscope_health_female=[i for i in gyroscope_health_female if(len(str(i))!=0)]\n",
    "\n"
   ]
  },
  {
   "cell_type": "markdown",
   "metadata": {},
   "source": [
    "requests the data"
   ]
  },
  {
   "cell_type": "code",
   "execution_count": null,
   "metadata": {},
   "outputs": [],
   "source": [
    "# define a function to ead json form \n",
    "def b(m):\n",
    "    c=[]\n",
    "    for i in m:\n",
    "        c.append(pd.read_json(requests.get(i).text))\n",
    "    return c\n",
    "\n",
    "# Gets data of type array\n",
    "aaf=b(accelerometer_anxiety_female)\n",
    "ahf=b(accelerometer_health_female)\n",
    "daf=b(device_motion_anxiety_female)\n",
    "dhf=b(device_motion_health_female)\n",
    "gaf=b(gyroscope_anxiety_female)\n",
    "ghf=b(gyroscope_health_female)"
   ]
  },
  {
   "cell_type": "code",
   "execution_count": 172,
   "metadata": {},
   "outputs": [],
   "source": [
    "master=[aaf,ahf,daf,dhf,gaf,ghf]\n",
    "\n",
    "# Clear the list of no data like {X:xxx,Y:yyy,Z:  }\n",
    "for i in master:\n",
    "    for j in range(len(i)):\n",
    "        i[j].dropna(inplace=True)      \n",
    "        if i[j].shape==[]:\n",
    "            del i[j]       \n"
   ]
  },
  {
   "cell_type": "code",
   "execution_count": 186,
   "metadata": {
    "scrolled": true
   },
   "outputs": [],
   "source": [
    "# # Remove noise data\n",
    "aaf=[i for i in aaf if len(i)/5/60<30 and len(i)/5/60>10] \n",
    "ahf=[i for i in aaf if len(i)/5/60<30 and len(i)/5/60>10] \n",
    "daf=[i for i in aaf if len(i)/5/60<30 and len(i)/5/60>10] \n",
    "hf=[i for i in aaf if len(i)/5/60<30 and len(i)/5/60>10] \n",
    "gaf=[i for i in aaf if len(i)/5/60<30 and len(i)/5/60>20] \n",
    "ghf=[i for i in aaf if len(i)/5/60<30 and len(i)/5/60>20] "
   ]
  }
 ],
 "metadata": {
  "kernelspec": {
   "display_name": "Python 3",
   "language": "python",
   "name": "python3"
  },
  "language_info": {
   "codemirror_mode": {
    "name": "ipython",
    "version": 3
   },
   "file_extension": ".py",
   "mimetype": "text/x-python",
   "name": "python",
   "nbconvert_exporter": "python",
   "pygments_lexer": "ipython3",
   "version": "3.7.4"
  }
 },
 "nbformat": 4,
 "nbformat_minor": 2
}
