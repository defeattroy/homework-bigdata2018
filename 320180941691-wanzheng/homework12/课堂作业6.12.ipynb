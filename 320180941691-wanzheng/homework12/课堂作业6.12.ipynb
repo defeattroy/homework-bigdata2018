{
 "cells": [
  {
   "cell_type": "code",
   "execution_count": 1,
   "metadata": {
    "ExecuteTime": {
     "end_time": "2020-06-12T03:44:56.098236Z",
     "start_time": "2020-06-12T03:44:54.968293Z"
    }
   },
   "outputs": [],
   "source": [
    "# 生成聚类数据集\n",
    "from sklearn.datasets import make_blobs\n",
    "\n",
    "X,y = make_blobs(n_samples=150,\n",
    "                 n_features=2,\n",
    "                 centers=3,\n",
    "                 cluster_std=0.5,\n",
    "                 shuffle=True,\n",
    "                 random_state=0)\n"
   ]
  },
  {
   "cell_type": "code",
   "execution_count": 2,
   "metadata": {
    "ExecuteTime": {
     "end_time": "2020-06-12T03:44:56.263851Z",
     "start_time": "2020-06-12T03:44:56.099235Z"
    }
   },
   "outputs": [],
   "source": [
    "# 导入包\n",
    "import math\n",
    "import random\n",
    "import numpy as np\n",
    "\n",
    "import matplotlib.pyplot as plt"
   ]
  },
  {
   "cell_type": "code",
   "execution_count": 3,
   "metadata": {
    "ExecuteTime": {
     "end_time": "2020-06-12T03:44:56.378527Z",
     "start_time": "2020-06-12T03:44:56.265789Z"
    }
   },
   "outputs": [
    {
     "data": {
      "image/png": "[encoded data removed]",
      "text/plain": [
       "<Figure size 432x288 with 1 Axes>"
      ]
     },
     "metadata": {
      "needs_background": "light"
     },
     "output_type": "display_data"
    }
   ],
   "source": [
    "# 可视化聚类数据集\n",
    "plt.scatter(X[:,0], X[:,1], color='green')\n",
    "plt.show()"
   ]
  },
  {
   "cell_type": "code",
   "execution_count": 4,
   "metadata": {
    "ExecuteTime": {
     "end_time": "2020-06-12T03:44:56.386467Z",
     "start_time": "2020-06-12T03:44:56.379487Z"
    }
   },
   "outputs": [],
   "source": [
    "# kmeans聚类\n",
    "class EasyKmeans:\n",
    "    def __init__(self, k, n=20):\n",
    "        self.k = k # k个中心点\n",
    "        self.n = n # 目标迭代次数\n",
    "        \n",
    "    def fit(self, x, centers=None):\n",
    "        # 第一步，随机选择 K 个点, 或者指定\n",
    "        if centers is None:\n",
    "            idx = np.random.randint(low=0, high=len(x), size=self.k) # 随机选择k个中心点的序号idx\n",
    "            centers = x[idx] # 给中心点centers赋值\n",
    "        \n",
    "        inters = 0 # 当前迭代次数\n",
    "        while inters < self.n: # 当前迭代次数小于目标迭代次数\n",
    "            points_set = {key: [] for key in range(self.k)} # 这个字典的键是中心点序号，值是空列表，用来放被该中心点聚类的实例点集合\n",
    "\n",
    "            # 第二步，遍历所有点 P，将 P 放入最近的聚类中心的集合中\n",
    "            for p in x:\n",
    "                nearest_index = np.argmin(np.sum((centers - p) ** 2, axis=1) ** 0.5) # 计算最近的中心点\n",
    "                points_set[nearest_index].append(p) # 把当前实例点放入对应聚类中心的组（被该聚类中心聚类的实例点的集合）里\n",
    "\n",
    "            # 第三步，遍历每一个点集，计算新的聚类中心\n",
    "            for i_k in range(self.k):\n",
    "                centers[i_k] = sum(points_set[i_k])/len(points_set[i_k]) # 计算各聚类中心的组（被该聚类中心聚类的实例点的集合）的平均值，更新聚类中心\n",
    "                \n",
    "            inters += 1\n",
    "\n",
    "        \n",
    "            \n",
    "        return points_set, centers # 返回聚类中心和聚类中心的组（被该聚类中心聚类的实例点的集合）"
   ]
  },
  {
   "cell_type": "code",
   "execution_count": 5,
   "metadata": {
    "ExecuteTime": {
     "end_time": "2020-06-12T03:44:56.422418Z",
     "start_time": "2020-06-12T03:44:56.388461Z"
    }
   },
   "outputs": [],
   "source": [
    "cls = EasyKmeans(3)\n",
    "points_set, centers = cls.fit(X)"
   ]
  },
  {
   "cell_type": "code",
   "execution_count": 6,
   "metadata": {
    "ExecuteTime": {
     "end_time": "2020-06-12T03:44:56.427358Z",
     "start_time": "2020-06-12T03:44:56.423369Z"
    }
   },
   "outputs": [
    {
     "data": {
      "text/plain": [
       "array([[-1.5947298 ,  2.92236966],\n",
       "       [ 2.06521743,  0.96137409],\n",
       "       [ 0.9329651 ,  4.35420712]])"
      ]
     },
     "execution_count": 6,
     "metadata": {},
     "output_type": "execute_result"
    }
   ],
   "source": [
    "centers"
   ]
  },
  {
   "cell_type": "code",
   "execution_count": 7,
   "metadata": {
    "ExecuteTime": {
     "end_time": "2020-06-12T03:44:56.446307Z",
     "start_time": "2020-06-12T03:44:56.428355Z"
    }
   },
   "outputs": [
    {
     "data": {
      "text/plain": [
       "{0: [array([-2.12133364,  2.66447408]),\n",
       "  array([-0.37494566,  2.38787435]),\n",
       "  array([-1.84562253,  2.71924635]),\n",
       "  array([-1.99912714,  2.71285741]),\n",
       "  array([-1.47804153,  3.2093591 ]),\n",
       "  array([-1.5933443 ,  2.76898682]),\n",
       "  array([-1.26637157,  2.62998828]),\n",
       "  array([-2.54224625,  3.95012869]),\n",
       "  array([-1.59487886,  3.48632794]),\n",
       "  array([-1.82556205,  2.7989214 ]),\n",
       "  array([-1.13374003,  2.68467271]),\n",
       "  array([-1.758702,  3.158623]),\n",
       "  array([-1.32738084,  1.53158588]),\n",
       "  array([-1.6814105 ,  2.07988036]),\n",
       "  array([-1.18113464,  3.26525683]),\n",
       "  array([-1.19371247,  2.68752237]),\n",
       "  array([-1.44865074,  3.03397278]),\n",
       "  array([-1.18199493,  3.56880538]),\n",
       "  array([-2.31837321,  3.22307195]),\n",
       "  array([-0.54894786,  3.11292892]),\n",
       "  array([-1.6823471 ,  2.96658234]),\n",
       "  array([-1.53541422,  3.10745813]),\n",
       "  array([-0.39724954,  2.89675369]),\n",
       "  array([-1.93358614,  2.1846701 ]),\n",
       "  array([-1.38373217,  3.22230418]),\n",
       "  array([-1.79833475,  3.12590728]),\n",
       "  array([-2.0495307 ,  3.52345491]),\n",
       "  array([-2.00487651,  2.74489137]),\n",
       "  array([-2.10499523,  3.30848131]),\n",
       "  array([-2.18016744,  3.7469476 ]),\n",
       "  array([-1.72662853,  3.10291021]),\n",
       "  array([-1.31377465,  3.25633628]),\n",
       "  array([-1.2649585,  2.9620933]),\n",
       "  array([-2.49504392,  3.01227156]),\n",
       "  array([-1.28003312,  2.85983029]),\n",
       "  array([-1.82506103,  2.89159861]),\n",
       "  array([-1.53906708,  2.54886681]),\n",
       "  array([-2.29730252,  2.94951326]),\n",
       "  array([-1.45592743,  2.75821805]),\n",
       "  array([-1.38694171,  2.86880707]),\n",
       "  array([-1.07181456,  3.07649137]),\n",
       "  array([-1.58598604,  2.57779316]),\n",
       "  array([-1.58217434,  3.42796862]),\n",
       "  array([-0.77966174,  1.88288975]),\n",
       "  array([-1.8531083 ,  2.72240557]),\n",
       "  array([-1.84094779,  2.6773687 ]),\n",
       "  array([-0.95073823,  3.45769156]),\n",
       "  array([-2.23893447,  2.67122232]),\n",
       "  array([-1.87292894,  3.68607079]),\n",
       "  array([-1.8897027 ,  2.22620028])],\n",
       " 1: [array([2.60509732, 1.22529553]),\n",
       "  array([2.61858548, 0.35769791]),\n",
       "  array([2.37533328, 0.08918564]),\n",
       "  array([3.1368855 , 1.56592763]),\n",
       "  array([1.8706766 , 0.77797407]),\n",
       "  array([2.03562611, 0.31361691]),\n",
       "  array([2.4411628 , 1.30941574]),\n",
       "  array([2.31690585, 0.81189049]),\n",
       "  array([2.36230721, 1.358767  ]),\n",
       "  array([1.4815332 , 0.67875364]),\n",
       "  array([1.68548602, 1.66917096]),\n",
       "  array([2.989047  , 1.35068599]),\n",
       "  array([1.73734448, 1.23588031]),\n",
       "  array([1.87827057, 0.21018801]),\n",
       "  array([2.13860427, 1.21517938]),\n",
       "  array([2.48368283, 0.57215086]),\n",
       "  array([1.83769075, 1.82229552]),\n",
       "  array([1.84845803, 0.52393625]),\n",
       "  array([2.3914149 , 1.10139458]),\n",
       "  array([3.01673853, 1.63792106]),\n",
       "  array([1.62465468, 1.85269614]),\n",
       "  array([1.44254976, 1.31984515]),\n",
       "  array([2.52889351, 0.82015861]),\n",
       "  array([1.5381461 , 1.23846092]),\n",
       "  array([1.71810119, 0.91357894]),\n",
       "  array([1.65356269, 0.55288877]),\n",
       "  array([2.20438661, 1.56085661]),\n",
       "  array([3.24683991, 1.3699034 ]),\n",
       "  array([2.51569693, 1.05702749]),\n",
       "  array([2.36788325, 0.09663483]),\n",
       "  array([2.24348029, 0.34796326]),\n",
       "  array([1.30963873, 1.11735951]),\n",
       "  array([1.70798359, 0.82284639]),\n",
       "  array([1.39731382, 0.66687136]),\n",
       "  array([2.02114672, 1.75433502]),\n",
       "  array([1.67030948, 1.16728826]),\n",
       "  array([2.52997792, 0.94143928]),\n",
       "  array([2.00604126, 0.56592452]),\n",
       "  array([1.50307585, 0.9237462 ]),\n",
       "  array([1.82750127, 0.90640324]),\n",
       "  array([2.64928242, 1.05613497]),\n",
       "  array([1.8062513 , 1.86242969]),\n",
       "  array([1.92126584, 1.29889186]),\n",
       "  array([1.68289011, 0.48444439]),\n",
       "  array([1.40883907, 1.03118909]),\n",
       "  array([1.59885641, 1.4561718 ]),\n",
       "  array([ 1.73345832, -0.21403792]),\n",
       "  array([2.34356293, 0.79351428]),\n",
       "  array([2.25327088, 0.35113291]),\n",
       "  array([1.55515985, 0.12527811])],\n",
       " 2: [array([0.5323772 , 3.31338909]),\n",
       "  array([0.802314  , 4.38196181]),\n",
       "  array([0.5285368 , 4.49723858]),\n",
       "  array([1.59141542, 4.90497725]),\n",
       "  array([1.74265969, 5.03846671]),\n",
       "  array([1.72039618, 5.25173192]),\n",
       "  array([0.72144399, 4.08475018]),\n",
       "  array([0.16117091, 4.53517846]),\n",
       "  array([0.64003985, 4.12401075]),\n",
       "  array([1.13280393, 3.87673946]),\n",
       "  array([1.04829186, 5.03092408]),\n",
       "  array([1.2091013 , 3.53566548]),\n",
       "  array([0.3498724 , 4.69253251]),\n",
       "  array([0.65910903, 4.12241674]),\n",
       "  array([1.15445328, 4.65707391]),\n",
       "  array([0.34102758, 4.78848568]),\n",
       "  array([2.11114739, 3.57660449]),\n",
       "  array([1.45131429, 4.22810872]),\n",
       "  array([0.44089377, 4.83101319]),\n",
       "  array([1.08040757, 4.79210685]),\n",
       "  array([0.72086751, 3.71347124]),\n",
       "  array([1.34081536, 4.36827878]),\n",
       "  array([1.06498315, 4.10289686]),\n",
       "  array([1.03972612, 4.50478201]),\n",
       "  array([-0.30022483,  4.63059663]),\n",
       "  array([0.12313498, 5.27917503]),\n",
       "  array([1.54597042, 3.68637442]),\n",
       "  array([0.38970838, 5.27559792]),\n",
       "  array([0.82049381, 4.33187   ]),\n",
       "  array([1.56565986, 4.21382491]),\n",
       "  array([0.96217896, 4.51795326]),\n",
       "  array([0.4519936 , 3.59377836]),\n",
       "  array([1.19820169, 4.47062449]),\n",
       "  array([0.99914934, 4.2101954 ]),\n",
       "  array([0.77468161, 4.91500986]),\n",
       "  array([1.91784543, 3.6299078 ]),\n",
       "  array([1.05374379, 4.49286859]),\n",
       "  array([1.72330962, 4.2012082 ]),\n",
       "  array([0.92466065, 4.50908658]),\n",
       "  array([0.39369516, 4.75420057]),\n",
       "  array([0.78260667, 4.15263595]),\n",
       "  array([0.98152009, 5.19672257]),\n",
       "  array([1.00952869, 4.45502328]),\n",
       "  array([1.40848818, 3.93270482]),\n",
       "  array([0.5408715, 4.0143625]),\n",
       "  array([0.5226209 , 4.32976003]),\n",
       "  array([0.16932115, 4.19741719]),\n",
       "  array([0.56969694, 3.44064603]),\n",
       "  array([1.35678894, 4.36462484]),\n",
       "  array([1.1774409 , 3.96138228])]}"
      ]
     },
     "execution_count": 7,
     "metadata": {},
     "output_type": "execute_result"
    }
   ],
   "source": [
    "points_set"
   ]
  },
  {
   "cell_type": "code",
   "execution_count": 8,
   "metadata": {
    "ExecuteTime": {
     "end_time": "2020-06-12T03:44:56.596905Z",
     "start_time": "2020-06-12T03:44:56.448301Z"
    }
   },
   "outputs": [
    {
     "data": {
      "image/png": "[encoded data removed]",
      "text/plain": [
       "<Figure size 432x288 with 1 Axes>"
      ]
     },
     "metadata": {
      "needs_background": "light"
     },
     "output_type": "display_data"
    }
   ],
   "source": [
    "# 可视化聚类结果\n",
    "cat1 = np.asarray(points_set[0])\n",
    "cat2 = np.asarray(points_set[1])\n",
    "cat3 = np.asarray(points_set[2])\n",
    "\n",
    "for ix, p in enumerate(centers): # 画出3个聚类中心\n",
    "    plt.scatter(p[0], p[1], color='C{}'.format(ix), marker='^', edgecolor='black', s=256)\n",
    "        \n",
    "plt.scatter(cat1[:,0], cat1[:,1], color='green')\n",
    "plt.scatter(cat2[:,0], cat2[:,1], color='red')\n",
    "plt.scatter(cat3[:,0], cat3[:,1], color='blue')\n",
    "\n",
    "plt.show()"
   ]
  }
 ],
 "metadata": {
  "kernelspec": {
   "display_name": "Python 3",
   "language": "python",
   "name": "python3"
  },
  "language_info": {
   "codemirror_mode": {
    "name": "ipython",
    "version": 3
   },
   "file_extension": ".py",
   "mimetype": "text/x-python",
   "name": "python",
   "nbconvert_exporter": "python",
   "pygments_lexer": "ipython3",
   "version": "3.6.8"
  },
  "toc": {
   "base_numbering": 1,
   "nav_menu": {},
   "number_sections": true,
   "sideBar": true,
   "skip_h1_title": false,
   "title_cell": "Table of Contents",
   "title_sidebar": "Contents",
   "toc_cell": false,
   "toc_position": {},
   "toc_section_display": true,
   "toc_window_display": false
  }
 },
 "nbformat": 4,
 "nbformat_minor": 2
}
