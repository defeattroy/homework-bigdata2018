{
 "cells": [
  {
   "cell_type": "code",
   "execution_count": 24,
   "metadata": {},
   "outputs": [
    {
     "name": "stdout",
     "output_type": "stream",
     "text": [
      "initial assignments : [2, 2, 2, 2, 2, 2, 2, 2, 2, 2, 2, 2, 1, 2, 1, 2, 2, 1, 2, 1, 1, 1, 1, 1, 1]\n",
      "finial assignments : [0, 0, 0, 0, 0, 0, 0, 0, 0, 0, 0, 0, 1, 1, 1, 0, 1, 1, 1, 1, 1, 1, 1, 1, 1]\n",
      "[(0, [1, 2]), (0, [2, 3]), (0, [2, 1]), (0, [3, 3]), (0, [3, 1]), (0, [4, 5]), (0, [4, 2]), (0, [4, 3]), (0, [4, 6]), (0, [5, 4]), (0, [5, 5]), (0, [6, 5]), (1, [10, 8]), (1, [10, 6]), (1, [10, 7]), (0, [7, 6]), (1, [7, 9]), (1, [11, 5]), (1, [12, 1]), (1, [12, 4]), (1, [12, 3]), (1, [13, 5]), (1, [13, 6]), (1, [14, 9]), (1, [14, 14])]\n",
      "<zip object at 0x0000021099375808>\n"
     ]
    },
    {
     "data": {
      "image/png": "[encoded data removed]",
      "text/plain": [
       "<Figure size 432x288 with 1 Axes>"
      ]
     },
     "metadata": {
      "needs_background": "light"
     },
     "output_type": "display_data"
    }
   ],
   "source": [
    "\n",
    "from collections import defaultdict\n",
    "from random import uniform\n",
    "from math import sqrt\n",
    "import matplotlib.pyplot as plt\n",
    "\n",
    "# 输入点集列表（具有相同维度），返回该点集的中心。\n",
    "def point_avg(points):\n",
    "    dimensions = len(points[0]) # 维度\n",
    "    new_center = [] # 中心集合\n",
    "    # 计算所有点在每一维度分量的均值，获得中心点坐标\n",
    "    for dimension in range(dimensions):\n",
    "        dim_sum = 0  # 记录所有点坐标的当前维度总和\n",
    "        for p in points:\n",
    "            dim_sum += p[dimension] # 所有点求和\n",
    "        new_center.append(dim_sum / float(len(points))) # 计算当前维度的均值，并插入到中心点坐标中\n",
    "    return new_center\n",
    "\n",
    "# 输入点集列表data_set和已有的分配assignments (他们相同索引的元素是对应的)\n",
    "# 计算每一个簇的中心点，返回k个新的中心\n",
    "def update_centers(data_set, assignments):\n",
    "    new_means = defaultdict(list) # 初始化字典\n",
    "    centers = [] # 初始化中心点集合\n",
    "    # zip() 函数用于将可迭代的对象作为参数，将对象中对应的元素打包成一个个元组，然后返回由这些元组组成的列表。\n",
    "    # zip()函数形成的列表为：[[type,(x,y)],[type,(x,y)],[type,(x,y)],……,[type,(x,y)]]\n",
    "    for assignment, point in zip(assignments, data_set):\n",
    "        new_means[assignment].append(point)\n",
    "    # 计算每一类元素的中心点，并添加到centers列表中\n",
    "    for points in new_means.values():\n",
    "        centers.append(point_avg(points))\n",
    "    # 返回中心点集合\n",
    "    return centers\n",
    "\n",
    "# 输入所有点的集合data_points以及选取的K个中心点的集合centers\n",
    "# 通过计算将每个节点分配给一个距离最短的中心点，并输出一个列表，存储有每个节点对应的中心的索引。\n",
    "# 输出列表形式为：[center_index, center_index, center_index, ……, center_index]\n",
    "# 对应的点集合为：[point1, point2, point3, ……, pointN]\n",
    "# 这里data_points和assignments的长度是相等的\n",
    "def assign_points(data_points, centers):\n",
    "    assignments = []\n",
    "    # 遍历点集，获取每一个点距离最近的中心点，并存储其索引。\n",
    "    for point in data_points:\n",
    "        shortest = float('inf')  # 最短距离，先初始化为正无穷大\n",
    "        shortest_index = 0 # 最短距离对应的索引\n",
    "        for i in range(len(centers)):\n",
    "            val = distance(point, centers[i]) # 计算当前节点和中心点的距离\n",
    "            # 找到距离当前节点最近的中心点\n",
    "            if val < shortest:\n",
    "                shortest = val\n",
    "                shortest_index = i\n",
    "        # 将距离当前节点最近的中心点索引存储到assignments列表中（该列表和存储所有点的列表data_points的索引是对应的！）\n",
    "        assignments.append(shortest_index)\n",
    "    return assignments\n",
    "\n",
    "# 输入两点，计算两点之间的距离并返回\n",
    "def distance(a, b):\n",
    "    dimensions = len(a) # 维度\n",
    "    _sum = 0\n",
    "    # 分别计算每一维度值的平方并递加\n",
    "    for dimension in range(dimensions):\n",
    "        difference_sq = (a[dimension] - b[dimension]) ** 2\n",
    "        _sum += difference_sq\n",
    "    # 对平方和开方并返回\n",
    "    return sqrt(_sum)\n",
    "\n",
    "# 在节点范围内，随机选取k个点作为聚类中心并返回这k个点\n",
    "def generate_k(data_set, k):\n",
    "    centers = [] # 中心列表\n",
    "    dimensions = len(data_set[0]) # 维度\n",
    "    min_max = defaultdict(int) # 初始化\n",
    "\n",
    "    # 遍历全部节点\n",
    "    for point in data_set:\n",
    "        # 分别对不同维度进行计算,记录所有点每个维度的最大值和最小值\n",
    "        for i in range(dimensions):\n",
    "            val = point[i] # 节点第i维的值\n",
    "            min_key = 'min_%d' % i # min_0,min_1,min_2,……,min_N\n",
    "            max_key = 'max_%d' % i # max_0,max_1,max_2,……,max_N\n",
    "            if min_key not in min_max or val < min_max[min_key]:\n",
    "                min_max[min_key] = val\n",
    "            if max_key not in min_max or val > min_max[max_key]:\n",
    "                min_max[max_key] = val\n",
    "\n",
    "    # k为函数接收到的参数，表示要分成k类\n",
    "    for _k in range(k):\n",
    "        rand_point = []\n",
    "        # 提取每个维度的最大值和最小值，在最小和最大值的范围内随机生成一个值作为中点\n",
    "        for i in range(dimensions):\n",
    "            min_val = min_max['min_%d' % i]\n",
    "            max_val = min_max['max_%d' % i]\n",
    "            # uniform() 方法将随机生成下一个实数，它在 [x, y) 范围内\n",
    "            rand_point.append(uniform(min_val, max_val))\n",
    "        # 将生成的中点存储到中点列表中\n",
    "        centers.append(rand_point)\n",
    "    return centers\n",
    "\n",
    "# 输入所有点集dataset以及聚类数目k，\n",
    "def k_means(dataset, k):\n",
    "    k_points = generate_k(dataset, k)  # 随机选出k个随机点作为中心\n",
    "    assignments = assign_points(dataset, k_points) # 将所有点分配给距离最近的中心点\n",
    "    print(\"initial assignments : %s\" % (assignments))\n",
    "    old_assignments = None\n",
    "    # 迭代进行聚类，当两次聚类结果相同时，结束\n",
    "    while assignments != old_assignments:\n",
    "        new_centers = update_centers(dataset, assignments) # 根据当前的分配更新中心点\n",
    "        old_assignments = assignments # 记录上一次分配结果\n",
    "        assignments = assign_points(dataset, new_centers) # 将所有点分配给距离最近的中心点\n",
    "    # 返回最终分类结果（一个存储对应中心点索引的队列）\n",
    "    print(\"finial assignments : %s\" % (assignments))\n",
    "    return zip(assignments, dataset)\n",
    "\n",
    "# 自己设定的数据。\n",
    "points = [\n",
    "    [1, 2],\n",
    "    [2, 3],\n",
    "    [2, 1],\n",
    "    [3, 3],\n",
    "    [3, 1],\n",
    "    [4, 5],\n",
    "    [4, 2],\n",
    "    [4, 3],\n",
    "    [4, 6],\n",
    "    [5, 4],\n",
    "    [5, 5],\n",
    "    [6, 5],\n",
    "    [10, 8],\n",
    "    [10,6],\n",
    "    [10,7],\n",
    "    [7,6],\n",
    "    [7, 9],\n",
    "    [11, 5],\n",
    "    [12, 1],\n",
    "    [12,4],\n",
    "    [12,3],\n",
    "    [13,5],\n",
    "    [13,6],\n",
    "    [14, 9],\n",
    "    [14, 14],\n",
    "    ]\n",
    "result = k_means(points, 3)\n",
    "print (list(result))\n",
    "l1 = []\n",
    "l2 = []\n",
    "for i in points:\n",
    "    l1.append(i[0])\n",
    "    l2.append(i[1])\n",
    "plt.scatter(l1,l2)\n",
    "\n",
    "\n"
   ]
  },
  {
   "cell_type": "code",
   "execution_count": 27,
   "metadata": {},
   "outputs": [
    {
     "ename": "ValueError",
     "evalue": "x and y must be the same size",
     "output_type": "error",
     "traceback": [
      "\u001b[1;31m---------------------------------------------------------------------------\u001b[0m",
      "\u001b[1;31mValueError\u001b[0m                                Traceback (most recent call last)",
      "\u001b[1;32m<ipython-input-27-e6ce096213f8>\u001b[0m in \u001b[0;36m<module>\u001b[1;34m\u001b[0m\n\u001b[1;32m----> 1\u001b[1;33m \u001b[0mplt\u001b[0m\u001b[1;33m.\u001b[0m\u001b[0mscatter\u001b[0m\u001b[1;33m(\u001b[0m\u001b[0ml1\u001b[0m\u001b[1;33m[\u001b[0m\u001b[1;36m0\u001b[0m\u001b[1;33m:\u001b[0m\u001b[1;36m12\u001b[0m\u001b[1;33m]\u001b[0m\u001b[1;33m,\u001b[0m\u001b[0ml1\u001b[0m\u001b[1;33m[\u001b[0m\u001b[1;36m12\u001b[0m\u001b[1;33m:\u001b[0m\u001b[1;36m16\u001b[0m\u001b[1;33m]\u001b[0m\u001b[1;33m,\u001b[0m\u001b[0mc\u001b[0m\u001b[1;33m=\u001b[0m\u001b[1;34m'red'\u001b[0m\u001b[1;33m)\u001b[0m\u001b[1;33m\u001b[0m\u001b[1;33m\u001b[0m\u001b[0m\n\u001b[0m\u001b[0;32m      2\u001b[0m \u001b[0mplt\u001b[0m\u001b[1;33m.\u001b[0m\u001b[0mscatter\u001b[0m\u001b[1;33m(\u001b[0m\u001b[0mx1\u001b[0m\u001b[1;33m,\u001b[0m\u001b[0my1\u001b[0m\u001b[1;33m,\u001b[0m \u001b[0mc\u001b[0m\u001b[1;33m=\u001b[0m\u001b[1;34m'blue'\u001b[0m\u001b[1;33m)\u001b[0m\u001b[1;33m\u001b[0m\u001b[1;33m\u001b[0m\u001b[0m\n",
      "\u001b[1;32m~\\Anaconda3\\lib\\site-packages\\matplotlib\\pyplot.py\u001b[0m in \u001b[0;36mscatter\u001b[1;34m(x, y, s, c, marker, cmap, norm, vmin, vmax, alpha, linewidths, verts, edgecolors, plotnonfinite, data, **kwargs)\u001b[0m\n\u001b[0;32m   2845\u001b[0m         \u001b[0mverts\u001b[0m\u001b[1;33m=\u001b[0m\u001b[0mverts\u001b[0m\u001b[1;33m,\u001b[0m \u001b[0medgecolors\u001b[0m\u001b[1;33m=\u001b[0m\u001b[0medgecolors\u001b[0m\u001b[1;33m,\u001b[0m\u001b[1;33m\u001b[0m\u001b[1;33m\u001b[0m\u001b[0m\n\u001b[0;32m   2846\u001b[0m         plotnonfinite=plotnonfinite, **({\"data\": data} if data is not\n\u001b[1;32m-> 2847\u001b[1;33m         None else {}), **kwargs)\n\u001b[0m\u001b[0;32m   2848\u001b[0m     \u001b[0msci\u001b[0m\u001b[1;33m(\u001b[0m\u001b[0m__ret\u001b[0m\u001b[1;33m)\u001b[0m\u001b[1;33m\u001b[0m\u001b[1;33m\u001b[0m\u001b[0m\n\u001b[0;32m   2849\u001b[0m     \u001b[1;32mreturn\u001b[0m \u001b[0m__ret\u001b[0m\u001b[1;33m\u001b[0m\u001b[1;33m\u001b[0m\u001b[0m\n",
      "\u001b[1;32m~\\Anaconda3\\lib\\site-packages\\matplotlib\\__init__.py\u001b[0m in \u001b[0;36minner\u001b[1;34m(ax, data, *args, **kwargs)\u001b[0m\n\u001b[0;32m   1599\u001b[0m     \u001b[1;32mdef\u001b[0m \u001b[0minner\u001b[0m\u001b[1;33m(\u001b[0m\u001b[0max\u001b[0m\u001b[1;33m,\u001b[0m \u001b[1;33m*\u001b[0m\u001b[0margs\u001b[0m\u001b[1;33m,\u001b[0m \u001b[0mdata\u001b[0m\u001b[1;33m=\u001b[0m\u001b[1;32mNone\u001b[0m\u001b[1;33m,\u001b[0m \u001b[1;33m**\u001b[0m\u001b[0mkwargs\u001b[0m\u001b[1;33m)\u001b[0m\u001b[1;33m:\u001b[0m\u001b[1;33m\u001b[0m\u001b[1;33m\u001b[0m\u001b[0m\n\u001b[0;32m   1600\u001b[0m         \u001b[1;32mif\u001b[0m \u001b[0mdata\u001b[0m \u001b[1;32mis\u001b[0m \u001b[1;32mNone\u001b[0m\u001b[1;33m:\u001b[0m\u001b[1;33m\u001b[0m\u001b[1;33m\u001b[0m\u001b[0m\n\u001b[1;32m-> 1601\u001b[1;33m             \u001b[1;32mreturn\u001b[0m \u001b[0mfunc\u001b[0m\u001b[1;33m(\u001b[0m\u001b[0max\u001b[0m\u001b[1;33m,\u001b[0m \u001b[1;33m*\u001b[0m\u001b[0mmap\u001b[0m\u001b[1;33m(\u001b[0m\u001b[0msanitize_sequence\u001b[0m\u001b[1;33m,\u001b[0m \u001b[0margs\u001b[0m\u001b[1;33m)\u001b[0m\u001b[1;33m,\u001b[0m \u001b[1;33m**\u001b[0m\u001b[0mkwargs\u001b[0m\u001b[1;33m)\u001b[0m\u001b[1;33m\u001b[0m\u001b[1;33m\u001b[0m\u001b[0m\n\u001b[0m\u001b[0;32m   1602\u001b[0m \u001b[1;33m\u001b[0m\u001b[0m\n\u001b[0;32m   1603\u001b[0m         \u001b[0mbound\u001b[0m \u001b[1;33m=\u001b[0m \u001b[0mnew_sig\u001b[0m\u001b[1;33m.\u001b[0m\u001b[0mbind\u001b[0m\u001b[1;33m(\u001b[0m\u001b[0max\u001b[0m\u001b[1;33m,\u001b[0m \u001b[1;33m*\u001b[0m\u001b[0margs\u001b[0m\u001b[1;33m,\u001b[0m \u001b[1;33m**\u001b[0m\u001b[0mkwargs\u001b[0m\u001b[1;33m)\u001b[0m\u001b[1;33m\u001b[0m\u001b[1;33m\u001b[0m\u001b[0m\n",
      "\u001b[1;32m~\\Anaconda3\\lib\\site-packages\\matplotlib\\axes\\_axes.py\u001b[0m in \u001b[0;36mscatter\u001b[1;34m(self, x, y, s, c, marker, cmap, norm, vmin, vmax, alpha, linewidths, verts, edgecolors, plotnonfinite, **kwargs)\u001b[0m\n\u001b[0;32m   4442\u001b[0m         \u001b[0my\u001b[0m \u001b[1;33m=\u001b[0m \u001b[0mnp\u001b[0m\u001b[1;33m.\u001b[0m\u001b[0mma\u001b[0m\u001b[1;33m.\u001b[0m\u001b[0mravel\u001b[0m\u001b[1;33m(\u001b[0m\u001b[0my\u001b[0m\u001b[1;33m)\u001b[0m\u001b[1;33m\u001b[0m\u001b[1;33m\u001b[0m\u001b[0m\n\u001b[0;32m   4443\u001b[0m         \u001b[1;32mif\u001b[0m \u001b[0mx\u001b[0m\u001b[1;33m.\u001b[0m\u001b[0msize\u001b[0m \u001b[1;33m!=\u001b[0m \u001b[0my\u001b[0m\u001b[1;33m.\u001b[0m\u001b[0msize\u001b[0m\u001b[1;33m:\u001b[0m\u001b[1;33m\u001b[0m\u001b[1;33m\u001b[0m\u001b[0m\n\u001b[1;32m-> 4444\u001b[1;33m             \u001b[1;32mraise\u001b[0m \u001b[0mValueError\u001b[0m\u001b[1;33m(\u001b[0m\u001b[1;34m\"x and y must be the same size\"\u001b[0m\u001b[1;33m)\u001b[0m\u001b[1;33m\u001b[0m\u001b[1;33m\u001b[0m\u001b[0m\n\u001b[0m\u001b[0;32m   4445\u001b[0m \u001b[1;33m\u001b[0m\u001b[0m\n\u001b[0;32m   4446\u001b[0m         \u001b[1;32mif\u001b[0m \u001b[0ms\u001b[0m \u001b[1;32mis\u001b[0m \u001b[1;32mNone\u001b[0m\u001b[1;33m:\u001b[0m\u001b[1;33m\u001b[0m\u001b[1;33m\u001b[0m\u001b[0m\n",
      "\u001b[1;31mValueError\u001b[0m: x and y must be the same size"
     ]
    },
    {
     "data": {
      "image/png": "[encoded data removed]",
      "text/plain": [
       "<Figure size 432x288 with 1 Axes>"
      ]
     },
     "metadata": {
      "needs_background": "light"
     },
     "output_type": "display_data"
    }
   ],
   "source": [
    "\n",
    "\n",
    "\n",
    "plt.scatter(l1[0:12],l1[12:16],c='red')\n",
    "plt.scatter(x1,y1, c='blue')"
   ]
  },
  {
   "cell_type": "code",
   "execution_count": null,
   "metadata": {},
   "outputs": [],
   "source": []
  }
 ],
 "metadata": {
  "kernelspec": {
   "display_name": "Python 3",
   "language": "python",
   "name": "python3"
  },
  "language_info": {
   "codemirror_mode": {
    "name": "ipython",
    "version": 3
   },
   "file_extension": ".py",
   "mimetype": "text/x-python",
   "name": "python",
   "nbconvert_exporter": "python",
   "pygments_lexer": "ipython3",
   "version": "3.7.4"
  }
 },
 "nbformat": 4,
 "nbformat_minor": 2
}
