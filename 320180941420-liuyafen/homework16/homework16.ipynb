{
 "cells": [
  {
   "cell_type": "code",
   "execution_count": 78,
   "metadata": {},
   "outputs": [
    {
     "name": "stdout",
     "output_type": "stream",
     "text": [
      "[[ 0.5562008   0.37359269]\n",
      " [-0.20682798  2.71527851]\n",
      " [-0.53383307  0.9584782 ]]\n",
      "[[ 2.06521743  0.96137409]\n",
      " [-0.30205961  3.69416993]\n",
      " [-1.26281769  1.831452  ]]\n",
      "[[ 2.06521743  0.96137409]\n",
      " [ 0.38952154  4.13226434]\n",
      " [-1.6687753   2.72090449]]\n",
      "[[ 2.06521743  0.96137409]\n",
      " [ 0.9329651   4.35420712]\n",
      " [-1.5947298   2.92236966]]\n",
      "中心点坐标是：\n",
      "[[ 2.06521743  0.96137409]\n",
      " [ 0.9329651   4.35420712]\n",
      " [-1.5947298   2.92236966]]\n"
     ]
    }
   ],
   "source": [
    "from sklearn.datasets import make_blobs\n",
    "import matplotlib.pyplot as plt\n",
    "from numpy import *\n",
    "\n",
    "\n",
    "X,y = make_blobs(n_samples=150,\n",
    "                 n_features=2,\n",
    "                 centers=3,\n",
    "                 cluster_std=0.5,\n",
    "                 shuffle=True,\n",
    "                 random_state=0)\n",
    "\n",
    "\n",
    "\n",
    "# 计算欧几里得距离\n",
    "def distEclud(vecA, vecB):\n",
    "    return sqrt(sum(power(vecA - vecB, 2))) # 求两个向量之间的距离\n",
    "\n",
    "\n",
    "# 构建聚簇中心，取k个(此例中为4)随机质心\n",
    "def randCent(dataSet, k):\n",
    "    n = shape(dataSet)[1]\n",
    "    centroids = mat(zeros((k,n)))   # 每个质心有n个坐标值，总共要k个质心\n",
    "    for j in range(n):\n",
    "        minJ = min(dataSet[:,j])\n",
    "        maxJ = max(dataSet[:,j])\n",
    "        rangeJ = float(maxJ - minJ)\n",
    "        centroids[:,j] = minJ + rangeJ * random.rand(k, 1)\n",
    "    return centroids\n",
    "\n",
    "\n",
    "# k-means 聚类算法\n",
    "def kMeans(dataSet, k, distMeans =distEclud, createCent = randCent):\n",
    "    m = shape(dataSet)[0]\n",
    "    clusterAssment = mat(zeros((m,2)))    # 用于存放该样本属于哪类及质心距离\n",
    "    # clusterAssment第一列存放该数据所属的中心点，第二列是该数据到中心点的距离\n",
    "    centroids = createCent(dataSet, k)\n",
    "    clusterChanged = True   # 用来判断聚类是否已经收敛\n",
    "    while clusterChanged:\n",
    "        clusterChanged = False;\n",
    "        for i in range(m):  # 把每一个数据点划分到离它最近的中心点\n",
    "            minDist = inf; minIndex = -1;\n",
    "            for j in range(k):\n",
    "                distJI = distMeans(centroids[j,:], dataSet[i,:])\n",
    "                if distJI < minDist:\n",
    "                    minDist = distJI; minIndex = j  # 如果第i个数据点到第j个中心点更近，则将i归属为j\n",
    "            if clusterAssment[i,0] != minIndex: clusterChanged = True;  # 如果分配发生变化，则需要继续迭代\n",
    "            clusterAssment[i,:] = minIndex,minDist**2   # 并将第i个数据点的分配情况存入字典\n",
    "        print(centroids)\n",
    "        for cent in range(k):   # 重新计算中心点\n",
    "            ptsInClust = dataSet[nonzero(clusterAssment[:,0].A == cent)[0]]   # 去第一列等于cent的所有列\n",
    "            centroids[cent,:] = mean(ptsInClust, axis = 0)  # 算出这些数据的中心点\n",
    "    return centroids, clusterAssment\n",
    "\n",
    "\n",
    "# 用测试数据及测试kmeans算法\n",
    "datMat = mat(X)\n",
    "myCentroids,clustAssing = kMeans(datMat,3)\n",
    "# myCentroids中心点坐标,clustAssing是分类结果\n",
    "print('中心点坐标是：')\n",
    "print(myCentroids)"
   ]
  },
  {
   "cell_type": "code",
   "execution_count": 79,
   "metadata": {},
   "outputs": [
    {
     "data": {
      "image/png": "[encoded data removed]",
      "text/plain": [
       "<Figure size 432x288 with 1 Axes>"
      ]
     },
     "metadata": {
      "needs_background": "light"
     },
     "output_type": "display_data"
    }
   ],
   "source": [
    "# 绘制数据分布图\n",
    "for i in range(len(X)):\n",
    "    if y[i] == 0:\n",
    "        plt.scatter(X[i][0],X[i][1], c = \"red\", marker='o')\n",
    "    elif y[i] == 1:\n",
    "        plt.scatter(X[i][0],X[i][1], c = \"green\", marker='*')\n",
    "    elif y[i] == 2:\n",
    "            plt.scatter(X[i][0],X[i][1], c = \"blue\", marker='+')\n",
    "\n",
    "\n",
    "plt.scatter(myCentroids[0,0],myCentroids[0,1], c = \"black\", marker='^')\n",
    "plt.scatter(myCentroids[1,0],myCentroids[1,1], c = \"black\", marker='^')\n",
    "plt.scatter(myCentroids[2,0],myCentroids[2,1], c = \"black\", marker='^')\n",
    "plt.show()"
   ]
  }
 ],
 "metadata": {
  "kernelspec": {
   "display_name": "Python 3",
   "language": "python",
   "name": "python3"
  },
  "language_info": {
   "codemirror_mode": {
    "name": "ipython",
    "version": 3
   },
   "file_extension": ".py",
   "mimetype": "text/x-python",
   "name": "python",
   "nbconvert_exporter": "python",
   "pygments_lexer": "ipython3",
   "version": "3.7.3"
  }
 },
 "nbformat": 4,
 "nbformat_minor": 2
}
