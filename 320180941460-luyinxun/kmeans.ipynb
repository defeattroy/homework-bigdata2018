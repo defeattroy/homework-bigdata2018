{
 "cells": [
  {
   "cell_type": "code",
   "execution_count": 114,
   "metadata": {},
   "outputs": [
    {
     "data": {
      "text/plain": [
       "<matplotlib.collections.PathCollection at 0x156dd8c5a58>"
      ]
     },
     "execution_count": 114,
     "metadata": {},
     "output_type": "execute_result"
    },
    {
     "data": {
      "image/png": "[encoded data removed]",
      "text/plain": [
       "<Figure size 432x288 with 1 Axes>"
      ]
     },
     "metadata": {
      "needs_background": "light"
     },
     "output_type": "display_data"
    }
   ],
   "source": [
    "from sklearn.datasets import make_blobs\n",
    "import matplotlib.pyplot as plt\n",
    "X,y = make_blobs(n_samples=150,n_features=2,centers=3,cluster_std=0.5,shuffle=True,random_state=0)\n",
    "plt.scatter(X[:,0],X[:,1])"
   ]
  },
  {
   "cell_type": "code",
   "execution_count": 117,
   "metadata": {},
   "outputs": [
    {
     "name": "stdout",
     "output_type": "stream",
     "text": [
      "请输入k值：3\n"
     ]
    },
    {
     "data": {
      "text/html": [
       "<div>\n",
       "<style scoped>\n",
       "    .dataframe tbody tr th:only-of-type {\n",
       "        vertical-align: middle;\n",
       "    }\n",
       "\n",
       "    .dataframe tbody tr th {\n",
       "        vertical-align: top;\n",
       "    }\n",
       "\n",
       "    .dataframe thead th {\n",
       "        text-align: right;\n",
       "    }\n",
       "</style>\n",
       "<table border=\"1\" class=\"dataframe\">\n",
       "  <thead>\n",
       "    <tr style=\"text-align: right;\">\n",
       "      <th></th>\n",
       "      <th>0</th>\n",
       "      <th>1</th>\n",
       "    </tr>\n",
       "  </thead>\n",
       "  <tbody>\n",
       "    <tr>\n",
       "      <th>114</th>\n",
       "      <td>0.981520</td>\n",
       "      <td>5.196723</td>\n",
       "    </tr>\n",
       "    <tr>\n",
       "      <th>62</th>\n",
       "      <td>-1.682347</td>\n",
       "      <td>2.966582</td>\n",
       "    </tr>\n",
       "    <tr>\n",
       "      <th>33</th>\n",
       "      <td>-1.758702</td>\n",
       "      <td>3.158623</td>\n",
       "    </tr>\n",
       "  </tbody>\n",
       "</table>\n",
       "</div>"
      ],
      "text/plain": [
       "            0         1\n",
       "114  0.981520  5.196723\n",
       "62  -1.682347  2.966582\n",
       "33  -1.758702  3.158623"
      ]
     },
     "execution_count": 117,
     "metadata": {},
     "output_type": "execute_result"
    }
   ],
   "source": [
    "import pandas as pd\n",
    "\n",
    "k = int(input('请输入k值：'))\n",
    "X = pd.DataFrame(X)\n",
    "sam = X.sample(n=k,random_state=0,axis=0)\n",
    "sam"
   ]
  },
  {
   "cell_type": "code",
   "execution_count": 118,
   "metadata": {},
   "outputs": [
    {
     "name": "stdout",
     "output_type": "stream",
     "text": [
      "[0, 0, 0, 0, 1, 0, 0, 1, 2, 0, 0, 2, 2, 0, 0, 2, 2, 1, 2, 1, 0, 0, 0, 0, 2, 1, 0, 0, 2, 1, 2, 2, 2, 2, 0, 0, 0, 1, 0, 0, 2, 2, 0, 1, 1, 1, 2, 0, 2, 0, 0, 0, 0, 1, 1, 2, 0, 0, 2, 0, 2, 2, 2, 2, 0, 2, 0, 0, 0, 0, 0, 1, 1, 0, 1, 0, 0, 2, 2, 0, 1, 1, 0, 0, 0, 0, 1, 2, 2, 1, 1, 0, 1, 0, 1, 0, 2, 2, 1, 0, 1, 1, 2, 1, 1, 0, 2, 0, 0, 0, 2, 0, 1, 2, 0, 2, 0, 0, 2, 2, 0, 0, 0, 0, 0, 1, 2, 1, 2, 2, 2, 2, 1, 2, 2, 2, 0, 2, 1, 2, 0, 0, 1, 1, 2, 2, 2, 2, 1, 1]\n"
     ]
    }
   ],
   "source": [
    "import math\n",
    "import numpy as np\n",
    "from collections import Counter\n",
    "\n",
    "X = np.array(X)\n",
    "sam =np.array(sam)\n",
    "n = 10\n",
    "dis = []\n",
    "def kmeans(X,sam,n,dis):\n",
    "    if n == 0:\n",
    "        print(dis)\n",
    "    \n",
    "    else:\n",
    "        #print(sam)\n",
    "        dis_ind = []#计算得出归属标签\n",
    "        for i in X:\n",
    "            single_dis = []#距离列表\n",
    "            #计算每个点到三个随机点最近的距离\n",
    "            for j in sam:\n",
    "                dis = math.sqrt(np.sum((i - j)**2))\n",
    "                single_dis.append(dis)\n",
    "\n",
    "            #找到最近点的标签和值并加入一个列表\n",
    "            near = np.argsort(single_dis)[0]#按最小排序的标签,取最小的,即三个随机点的索引\n",
    "            dis_ind.append(near)#最近点标签\n",
    "        #print(dis_ind)\n",
    "\n",
    "        count = [i[0] for i in Counter(dis_ind).most_common()]#分类标签\n",
    "\n",
    "        dic = {}\n",
    "        for i in range(len(count)):\n",
    "            dic[i]=[]\n",
    "\n",
    "        for i in range(len(X)):\n",
    "            for j in count:\n",
    "                if dis_ind[i] == j:\n",
    "                    dic[j].append(list(X[i]))\n",
    "                    break\n",
    "\n",
    "        #计算各簇中心点\n",
    "        new_sam = []\n",
    "        for i in range(len(count)):\n",
    "            new_x = np.mean(np.array(dic[i])[0])\n",
    "            new_y = np.mean(np.array(dic[i])[1])\n",
    "            new_sam.append((new_x,new_y))\n",
    "        sam = np.array(new_sam)\n",
    "        #迭代\n",
    "        n = n-1\n",
    "        kmeans(X,sam,n,dis_ind)\n",
    "        \n",
    "    \n",
    "kmeans(X,sam,n,dis)"
   ]
  },
  {
   "cell_type": "code",
   "execution_count": 119,
   "metadata": {},
   "outputs": [
    {
     "data": {
      "text/plain": [
       "<matplotlib.collections.PathCollection at 0x156dd9f8710>"
      ]
     },
     "execution_count": 119,
     "metadata": {},
     "output_type": "execute_result"
    },
    {
     "data": {
      "image/png": "[encoded data removed]",
      "text/plain": [
       "<Figure size 432x288 with 1 Axes>"
      ]
     },
     "metadata": {
      "needs_background": "light"
     },
     "output_type": "display_data"
    }
   ],
   "source": [
    "import matplotlib.pyplot as plt\n",
    "\n",
    "index = [0, 1, 1, 1, 0, 1, 1, 0, 2, 1, 0, 2, 2, 1, 1, 2, 2, 0, 2, 0, 1, 0, 1, 1, 2, 0, 0, 1, 2, 0, 2, 2, 2, 2, 1, 0, 0, 0, 1, 1, 2, 2, 1, 0, 0, 0, 2, 1, 2, 1, 0, 1, 1, 0, 0, 2, 1, 0, 2, 1, 2, 2, 2, 2, 1, 2, 1, 0, 1, 1, 1, 0, 0, 1, 0, 1, 1, 2, 2, 1, 0, 0, 1, 1, 0, 0, 0, 2, 2, 0, 0, 1, 0, 1, 0, 1, 2, 2, 0, 0, 0, 0, 2, 0, 0, 1, 2, 1, 1, 1, 2, 1, 0, 2, 1, 2, 1, 1, 2, 2, 1, 0, 1, 1, 0, 0, 2, 0, 2, 2, 2, 2, 0, 2, 2, 2, 1, 2, 0, 2, 1, 1, 0, 0, 2, 2, 2, 2, 0, 0]\n",
    "data = pd.DataFrame(np.c_[X,np.array(index).reshape(-1,1)])\n",
    "zero = data[data[2]==0]\n",
    "one = data[data[2]==1]\n",
    "two = data[data[2]==2]\n",
    "\n",
    "plt.scatter(zero.iloc[:,0],zero.iloc[:,1],c='r')\n",
    "plt.scatter(one.iloc[:,0],one.iloc[:,1],c='b')\n",
    "plt.scatter(two.iloc[:,0],two.iloc[:,1],c='g')"
   ]
  }
 ],
 "metadata": {
  "kernelspec": {
   "display_name": "Python 3",
   "language": "python",
   "name": "python3"
  },
  "language_info": {
   "codemirror_mode": {
    "name": "ipython",
    "version": 3
   },
   "file_extension": ".py",
   "mimetype": "text/x-python",
   "name": "python",
   "nbconvert_exporter": "python",
   "pygments_lexer": "ipython3",
   "version": "3.7.3"
  }
 },
 "nbformat": 4,
 "nbformat_minor": 2
}
