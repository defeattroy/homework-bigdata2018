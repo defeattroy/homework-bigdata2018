{
 "cells": [
  {
   "cell_type": "code",
   "execution_count": 34,
   "metadata": {},
   "outputs": [
    {
     "data": {
      "text/plain": [
       "numpy.ndarray"
      ]
     },
     "execution_count": 34,
     "metadata": {},
     "output_type": "execute_result"
    }
   ],
   "source": [
    "from sklearn.datasets import make_blobs\n",
    "\n",
    "X,y = make_blobs(n_samples=150,\n",
    "                n_features=2,\n",
    "                centers=3,\n",
    "                cluster_std=0.5,\n",
    "                shuffle=True,\n",
    "                random_state=0)"
   ]
  },
  {
   "cell_type": "code",
   "execution_count": 33,
   "metadata": {},
   "outputs": [
    {
     "data": {
      "image/png": "[encoded data removed]",
      "text/plain": [
       "<Figure size 432x288 with 1 Axes>"
      ]
     },
     "metadata": {
      "needs_background": "light"
     },
     "output_type": "display_data"
    }
   ],
   "source": [
    "import numpy as np\n",
    "import matplotlib.pyplot as plt\n",
    "\n",
    "# 欧氏距离的计算\n",
    "def o_distance(x,y):\n",
    "    return np.sqrt(np.sum((x-y)**2))\n",
    " \n",
    "# 给出随机k个初始簇中心\n",
    "def randCenter(data,k):\n",
    "    m,n = data.shape\n",
    "    centroids = np.zeros((k,n))\n",
    "    for i in range(k):\n",
    "        index = int(np.random.uniform(0,m))\n",
    "        centroids[i,:] = data[index,:]\n",
    "    return centroids\n",
    "\n",
    "def KMeans(data,k):\n",
    "    m = np.shape(data)[0]\n",
    "    clusterAssment = np.mat(np.zeros((m,2)))\n",
    "    clusterChange = True\n",
    "    # 初始化簇中心\n",
    "    centroids = randCenter(data,k)\n",
    "    while clusterChange:\n",
    "        clusterChange = False\n",
    "        # 遍历所有的样本\n",
    "        for i in range(m):\n",
    "            minDist = 100000.0\n",
    "            minIndex = -1\n",
    "            # 遍历所有的簇中心并找出最近的簇中心\n",
    "            for j in range(k):\n",
    "                # 计算该样本到簇中心的欧式距离\n",
    "                distance = o_distance(centroids[j,:],data[i,:])\n",
    "                if distance < minDist:\n",
    "                    minDist = distance\n",
    "                    minIndex = j\n",
    "            # 更新簇\n",
    "            if clusterAssment[i,0] != minIndex:\n",
    "                clusterChange = True\n",
    "                clusterAssment[i,:] = minIndex,minDist**2\n",
    "        # 更新簇中心\n",
    "        for j in range(k):\n",
    "            pointsInCluster = data[np.nonzero(clusterAssment[:,0].A == j)[0]]\n",
    "            centroids[j,:] = np.mean(pointsInCluster,axis=0)\n",
    "    return centroids,clusterAssment\n",
    " \n",
    "def showCluster(data,k,centroids,clusterAssment):\n",
    "    m,n = data.shape\n",
    "    assert n == 2 , '数据不是二维的'\n",
    "    \n",
    "    mark = ['or', 'ob', 'og', 'ok', '^r', '+r', 'sr', 'dr', '<r', 'pr']\n",
    "    assert k < len(mark), '给定k值过大'\n",
    "\n",
    "    for i in range(m):\n",
    "        markIndex = int(clusterAssment[i,0])\n",
    "        plt.plot(data[i,0],data[i,1],mark[markIndex])\n",
    "\n",
    "    for i in range(k):\n",
    "        plt.plot(centroids[i,0],centroids[i,1],'^')\n",
    "    plt.show()\n",
    "\n",
    "centroids,clusterAssment = KMeans(X,3)\n",
    "showCluster(X,k,centroids,clusterAssment)"
   ]
  }
 ],
 "metadata": {
  "kernelspec": {
   "display_name": "Python 3",
   "language": "python",
   "name": "python3"
  },
  "language_info": {
   "codemirror_mode": {
    "name": "ipython",
    "version": 3
   },
   "file_extension": ".py",
   "mimetype": "text/x-python",
   "name": "python",
   "nbconvert_exporter": "python",
   "pygments_lexer": "ipython3",
   "version": "3.7.4"
  }
 },
 "nbformat": 4,
 "nbformat_minor": 2
}
